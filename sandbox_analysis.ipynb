{
 "cells": [
  {
   "cell_type": "code",
   "execution_count": 18,
   "metadata": {},
   "outputs": [],
   "source": [
    "import pandas as pd\n",
    "import os\n"
   ]
  },
  {
   "cell_type": "code",
   "execution_count": 19,
   "metadata": {},
   "outputs": [],
   "source": [
    "sandbox_path = \"Sandbox\""
   ]
  },
  {
   "cell_type": "code",
   "execution_count": 35,
   "metadata": {},
   "outputs": [],
   "source": [
    "df_shapes = dict()\n",
    "for subdir, dirs, files in os.walk(sandbox_path):\n",
    "    if subdir != \"Sandbox\":\n",
    "        df = pd.read_csv(os.path.join(subdir, 'clean.csv'))\n",
    "        df_shapes[subdir] = df.shape"
   ]
  },
  {
   "cell_type": "code",
   "execution_count": 42,
   "metadata": {},
   "outputs": [
    {
     "name": "stdout",
     "output_type": "stream",
     "text": [
      "4674.941558441558 10.863636363636363 308\n",
      "26\n"
     ]
    }
   ],
   "source": [
    "mean_rows = 0\n",
    "mean_cols = 0\n",
    "keys = []\n",
    "for key in df_shapes:\n",
    "    if df_shapes[key][0] < 20:\n",
    "        keys.append(key)\n",
    "    mean_rows += df_shapes[key][0]\n",
    "    mean_cols += df_shapes[key][1]\n",
    "\n",
    "mean_rows /= len(df_shapes.keys())\n",
    "mean_cols /= len(df_shapes.keys())\n",
    "print(mean_rows, mean_cols, len(df_shapes.keys()))\n",
    "print(len(keys))"
   ]
  },
  {
   "cell_type": "code",
   "execution_count": null,
   "metadata": {},
   "outputs": [],
   "source": []
  }
 ],
 "metadata": {
  "interpreter": {
   "hash": "7fb0231cb4f9a7754dd05621ee197b32f743a0b486218d0dbacb7e6d04ca0dc4"
  },
  "kernelspec": {
   "display_name": "Python 3.10.4 64-bit",
   "name": "python3"
  },
  "language_info": {
   "codemirror_mode": {
    "name": "ipython",
    "version": 3
   },
   "file_extension": ".py",
   "mimetype": "text/x-python",
   "name": "python",
   "nbconvert_exporter": "python",
   "pygments_lexer": "ipython3",
   "version": "3.10.8"
  },
  "orig_nbformat": 4
 },
 "nbformat": 4,
 "nbformat_minor": 2
}