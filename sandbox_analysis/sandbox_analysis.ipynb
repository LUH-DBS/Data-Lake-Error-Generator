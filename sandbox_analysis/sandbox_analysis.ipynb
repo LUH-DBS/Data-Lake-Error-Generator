{
 "cells": [
  {
   "cell_type": "code",
   "execution_count": 1,
   "metadata": {},
   "outputs": [],
   "source": [
    "import pandas as pd\n",
    "import os\n"
   ]
  },
  {
   "cell_type": "code",
   "execution_count": 2,
   "metadata": {},
   "outputs": [],
   "source": [
    "sandbox_path = \"./data-gov-sandbox\""
   ]
  },
  {
   "cell_type": "code",
   "execution_count": 12,
   "metadata": {},
   "outputs": [],
   "source": [
    "df_shapes = dict()\n",
    "num_errors = dict()\n",
    "for subdir, dirs, files in os.walk(sandbox_path):\n",
    "    if subdir != \"./data-gov-sandbox\":\n",
    "        df = pd.read_csv(os.path.join(subdir, 'clean.csv'))\n",
    "        try:\n",
    "            changes = pd.read_csv(os.path.join(subdir, 'clean_changes.csv'), header=None)\n",
    "            num_errors[subdir] = changes.shape[0]\n",
    "        except Exception as e:\n",
    "            num_errors[subdir] = 0\n",
    "        df_shapes[subdir] = df.shape\n"
   ]
  },
  {
   "cell_type": "code",
   "execution_count": 4,
   "metadata": {},
   "outputs": [
    {
     "name": "stdout",
     "output_type": "stream",
     "text": [
      "4674.941558441558 10.863636363636363 308\n"
     ]
    }
   ],
   "source": [
    "mean_rows = 0\n",
    "mean_cols = 0\n",
    "for key in df_shapes:\n",
    "    mean_rows += df_shapes[key][0]\n",
    "    mean_cols += df_shapes[key][1]\n",
    "\n",
    "mean_rows /= len(df_shapes.keys())\n",
    "mean_cols /= len(df_shapes.keys())\n",
    "print(mean_rows, mean_cols, len(df_shapes.keys()))"
   ]
  },
  {
   "cell_type": "code",
   "execution_count": 28,
   "metadata": {},
   "outputs": [
    {
     "name": "stdout",
     "output_type": "stream",
     "text": [
      "308\n"
     ]
    }
   ],
   "source": [
    "print(len(df_shapes))"
   ]
  },
  {
   "cell_type": "code",
   "execution_count": 16,
   "metadata": {},
   "outputs": [
    {
     "data": {
      "image/png": "[encoded data removed]",
      "text/plain": [
       "<Figure size 640x480 with 1 Axes>"
      ]
     },
     "metadata": {},
     "output_type": "display_data"
    }
   ],
   "source": [
    "import matplotlib.pyplot as plt\n",
    "plt.hist(num_errors.values(), range=[0:])\n",
    "plt.show()\n"
   ]
  },
  {
   "cell_type": "code",
   "execution_count": 14,
   "metadata": {},
   "outputs": [
    {
     "data": {
      "text/plain": [
       "dict_values([819, 4, 41, 12, 18, 0, 124, 0, 236, 6865, 0, 0, 320, 21, 3439, 0, 435, 30, 226, 9, 15, 12, 3, 64, 0, 6, 0, 2, 0, 2, 0, 0, 111, 34, 4, 33, 0, 0, 334, 62, 52, 0, 0, 39, 0, 17, 0, 2, 0, 0, 2, 645, 161, 0, 31, 0, 0, 2, 13, 317, 0, 0, 99, 0, 107, 4, 0, 90, 29, 1, 0, 0, 0, 134, 0, 0, 8, 4, 22, 0, 19, 66, 0, 32, 0, 276, 0, 0, 0, 247, 0, 0, 184, 0, 24, 8, 0, 0, 0, 0, 140, 5, 0, 7, 16, 99, 3, 0, 58, 0, 83, 0, 45, 0, 34, 0, 0, 11, 7, 43, 0, 0, 91, 386, 12, 0, 4103, 0, 11, 0, 7, 0, 32, 0, 35, 0, 0, 0, 0, 35, 7, 14, 5, 110, 0, 0, 73, 30, 0, 14, 148, 10, 110, 227, 1, 0, 732, 0, 0, 7, 3, 0, 0, 0, 163, 61, 90, 166, 0, 0, 450, 7, 2026, 49, 1, 666, 0, 32, 21, 42, 14, 0, 880, 536, 0, 0, 0, 0, 33, 32, 4, 30, 0, 5, 0, 5, 6, 0, 2147, 0, 0, 1417, 0, 5, 0, 2714, 804, 0, 338, 14, 0, 24, 34, 405, 0, 58, 0, 20, 425, 0, 199, 3, 0, 9, 0, 4, 0, 0, 0, 4, 28, 0, 2, 0, 33, 5, 45, 0, 0, 108, 8849, 6, 72, 446, 0, 6, 8, 0, 276, 0, 0, 0, 0, 0, 0, 0, 0, 16, 0, 4, 0, 215, 11, 0, 0, 20, 0, 2, 56, 404, 189, 0, 32, 1994, 9769, 0, 0, 0, 14846, 7, 1228, 0, 957, 2072, 2, 4, 0, 0, 10, 0, 64, 2, 207, 13, 126, 0, 12, 6, 0, 28, 178, 0, 17, 46, 0, 10, 21, 44])"
      ]
     },
     "execution_count": 14,
     "metadata": {},
     "output_type": "execute_result"
    }
   ],
   "source": [
    "num_errors.values()"
   ]
  },
  {
   "cell_type": "code",
   "execution_count": null,
   "metadata": {},
   "outputs": [],
   "source": []
  }
 ],
 "metadata": {
  "interpreter": {
   "hash": "7fb0231cb4f9a7754dd05621ee197b32f743a0b486218d0dbacb7e6d04ca0dc4"
  },
  "kernelspec": {
   "display_name": "Python 3.10.8 64-bit ('Error-Detection-at-Scale': conda)",
   "name": "python3"
  },
  "language_info": {
   "codemirror_mode": {
    "name": "ipython",
    "version": 3
   },
   "file_extension": ".py",
   "mimetype": "text/x-python",
   "name": "python",
   "nbconvert_exporter": "python",
   "pygments_lexer": "ipython3",
   "version": "3.10.8"
  },
  "orig_nbformat": 4
 },
 "nbformat": 4,
 "nbformat_minor": 2
}